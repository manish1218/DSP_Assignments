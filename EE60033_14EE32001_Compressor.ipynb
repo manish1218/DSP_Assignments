{
 "cells": [
  {
   "cell_type": "code",
   "execution_count": 1,
   "metadata": {},
   "outputs": [],
   "source": [
    "# -*- coding: utf-8 -*-\n",
    "\"\"\"\n",
    "Created on Tue Nov 13 00:22:22 2018\n",
    "@author: Manish\n",
    "\"\"\"\n",
    "\n",
    "from __future__ import division\n",
    "import numpy as np\n",
    "import matplotlib.pyplot as plt\n",
    "import cmath\n",
    "import math\n",
    "import scipy.io.wavfile\n",
    "from scipy.fftpack import dct,idct\n",
    "from scipy.fftpack import fft,ifft\n",
    "\n",
    "# Read a 1 sec audio file(*.WAV). This can be a bigger music file as well (*.WAV only)\n",
    "[rate,data] = scipy.io.wavfile.read(\"audio3.wav\", mmap=False)\n",
    "\n",
    "# start time in seconds. t_start = 0 sec, since it is a 1 sec audio file\n",
    "t_start = 0\n",
    "t_end = (t_start + 1)\n",
    "\n",
    "N = 44100\n",
    "start_index = t_start * N\n",
    "end_index = t_end * N\n",
    "signal = data[start_index:end_index]\n",
    "l_channel = signal[:,0]\n",
    "r_channel = signal[:,1]\n",
    "\n",
    "# Separate the left and right channels of the audio\n",
    "x_l = l_channel\n",
    "x_r = r_channel\n",
    "\n",
    "XDCT_L = scipy.fftpack.dct(x_l, norm = 'ortho')\n",
    "XDCT_R = scipy.fftpack.dct(x_r, norm = 'ortho')\n",
    "\n",
    "M = 2000\n",
    "XDCT_L_m = []\n",
    "XDCT_R_m = []\n",
    "\n",
    "for k in range (N-M):\n",
    "    XDCT_L_m.append(XDCT_L[k])\n",
    "    XDCT_R_m.append(XDCT_R[k])\n",
    "        \n",
    "for k in range (N-M,N):\n",
    "    XDCT_L_m.append(0)\n",
    "    XDCT_R_m.append(0)\n",
    "    \n",
    "X = [np.array([N,M])]\n",
    "for i in range(N-M):\n",
    "    a_ = np.array([XDCT_L_m[i],XDCT_R_m[i]])\n",
    "    X.append(a_)\n",
    "X = np.array(X)\n",
    "np.savetxt('compressedFile.txt',X)"
   ]
  },
  {
   "cell_type": "code",
   "execution_count": null,
   "metadata": {},
   "outputs": [],
   "source": []
  }
 ],
 "metadata": {
  "kernelspec": {
   "display_name": "Python 3",
   "language": "python",
   "name": "python3"
  },
  "language_info": {
   "codemirror_mode": {
    "name": "ipython",
    "version": 3
   },
   "file_extension": ".py",
   "mimetype": "text/x-python",
   "name": "python",
   "nbconvert_exporter": "python",
   "pygments_lexer": "ipython3",
   "version": "3.6.5"
  }
 },
 "nbformat": 4,
 "nbformat_minor": 2
}
